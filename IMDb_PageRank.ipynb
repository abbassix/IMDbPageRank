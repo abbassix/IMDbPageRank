{
  "cells": [
    {
      "cell_type": "markdown",
      "metadata": {
        "id": "view-in-github",
        "colab_type": "text"
      },
      "source": [
        "<a href=\"https://colab.research.google.com/github/abbassix/IMDbPageRank/blob/main/IMDb_PageRank.ipynb\" target=\"_parent\"><img src=\"https://colab.research.google.com/assets/colab-badge.svg\" alt=\"Open In Colab\"/></a>"
      ]
    },
    {
      "cell_type": "code",
      "execution_count": 1,
      "metadata": {
        "id": "Yu2PuYWlrL3h"
      },
      "outputs": [],
      "source": [
        "num_iters = 1  # number of iterations\n",
        "damping_factor = 0.85  # damping factor"
      ]
    },
    {
      "cell_type": "code",
      "execution_count": 2,
      "metadata": {
        "id": "SBc_2a5fMJWT"
      },
      "outputs": [],
      "source": [
        "# note that versions from 8 to 11 of OpenJDK is required by Spark 3.x\n",
        "# don't use any other (older or newer) version\n",
        "!apt-get install openjdk-11-jdk-headless -qq > /dev/null"
      ]
    },
    {
      "cell_type": "code",
      "execution_count": 3,
      "metadata": {
        "colab": {
          "base_uri": "https://localhost:8080/"
        },
        "id": "j6iC3R9owzes",
        "outputId": "63a52013-2a52-4901-e1e2-da29e8123892"
      },
      "outputs": [
        {
          "output_type": "stream",
          "name": "stdout",
          "text": [
            "Looking in indexes: https://pypi.org/simple, https://us-python.pkg.dev/colab-wheels/public/simple/\n",
            "Collecting pyspark\n",
            "  Downloading pyspark-3.3.1.tar.gz (281.4 MB)\n",
            "\u001b[K     |████████████████████████████████| 281.4 MB 39 kB/s \n",
            "\u001b[?25hCollecting py4j==0.10.9.5\n",
            "  Downloading py4j-0.10.9.5-py2.py3-none-any.whl (199 kB)\n",
            "\u001b[K     |████████████████████████████████| 199 kB 55.7 MB/s \n",
            "\u001b[?25hBuilding wheels for collected packages: pyspark\n",
            "  Building wheel for pyspark (setup.py) ... \u001b[?25l\u001b[?25hdone\n",
            "  Created wheel for pyspark: filename=pyspark-3.3.1-py2.py3-none-any.whl size=281845512 sha256=d0f31feefaea8d50dc8068c7880994daf0196cf4b6863a08621df23bfae20588\n",
            "  Stored in directory: /root/.cache/pip/wheels/43/dc/11/ec201cd671da62fa9c5cc77078235e40722170ceba231d7598\n",
            "Successfully built pyspark\n",
            "Installing collected packages: py4j, pyspark\n",
            "Successfully installed py4j-0.10.9.5 pyspark-3.3.1\n"
          ]
        }
      ],
      "source": [
        "!wget -q https://archive.apache.org/dist/spark/spark-3.2.1/spark-3.2.1-bin-hadoop3.2.tgz  # download the Spark\n",
        "!tar xf /content/spark-3.2.1-bin-hadoop3.2.tgz  # unzip it\n",
        "!pip install -q findspark  # install `findspark` app via pip\n",
        "!pip install pyspark  # install `pyspark` via pip"
      ]
    },
    {
      "cell_type": "code",
      "execution_count": 4,
      "metadata": {
        "id": "52pOO1lgNj8c"
      },
      "outputs": [],
      "source": [
        "import os\n",
        "\n",
        "os.environ[\"JAVA_HOME\"] = \"/usr/lib/jvm/java-11-openjdk-amd64\"\n",
        "os.environ[\"SPARK_HOME\"] = \"/content/spark-3.2.1-bin-hadoop3.2\""
      ]
    },
    {
      "cell_type": "code",
      "execution_count": 5,
      "metadata": {
        "id": "9Wk3Z2KwXPzp"
      },
      "outputs": [],
      "source": [
        "import findspark\n",
        "\n",
        "findspark.init()"
      ]
    },
    {
      "cell_type": "code",
      "execution_count": 6,
      "metadata": {
        "id": "A9m2vbcYbUWj"
      },
      "outputs": [],
      "source": [
        "from pyspark.sql import SparkSession\n",
        "\n",
        "spark = SparkSession.builder.appName(\"IMDBPageRank\").getOrCreate()"
      ]
    },
    {
      "cell_type": "code",
      "execution_count": 7,
      "metadata": {
        "colab": {
          "base_uri": "https://localhost:8080/",
          "height": 222
        },
        "id": "wkEB5RLm7xed",
        "outputId": "6544a14c-d8d0-4188-9936-85d6bde43f46"
      },
      "outputs": [
        {
          "output_type": "execute_result",
          "data": {
            "text/plain": [
              "<pyspark.sql.session.SparkSession at 0x7f34ad0d4370>"
            ],
            "text/html": [
              "\n",
              "            <div>\n",
              "                <p><b>SparkSession - in-memory</b></p>\n",
              "                \n",
              "        <div>\n",
              "            <p><b>SparkContext</b></p>\n",
              "\n",
              "            <p><a href=\"http://1a5fd1655cd2:4040\">Spark UI</a></p>\n",
              "\n",
              "            <dl>\n",
              "              <dt>Version</dt>\n",
              "                <dd><code>v3.2.1</code></dd>\n",
              "              <dt>Master</dt>\n",
              "                <dd><code>local[*]</code></dd>\n",
              "              <dt>AppName</dt>\n",
              "                <dd><code>IMDBPageRank</code></dd>\n",
              "            </dl>\n",
              "        </div>\n",
              "        \n",
              "            </div>\n",
              "        "
            ]
          },
          "metadata": {},
          "execution_count": 7
        }
      ],
      "source": [
        "spark"
      ]
    },
    {
      "cell_type": "code",
      "execution_count": 8,
      "metadata": {
        "id": "XsvErFsMo_Ep"
      },
      "outputs": [],
      "source": [
        "# instructions from here: https://www.kaggle.com/general/74235\n",
        "# install Kaggle API for Python\n",
        "!pip install -q kaggle"
      ]
    },
    {
      "cell_type": "code",
      "execution_count": 9,
      "metadata": {
        "colab": {
          "base_uri": "https://localhost:8080/",
          "height": 95
        },
        "id": "ldGQGfpKpE4C",
        "outputId": "0907a265-05bb-48ed-aca9-888fd2b33bcb"
      },
      "outputs": [
        {
          "output_type": "display_data",
          "data": {
            "text/plain": [
              "<IPython.core.display.HTML object>"
            ],
            "text/html": [
              "\n",
              "     <input type=\"file\" id=\"files-c2531488-32d0-4342-9407-d8f9c4b1bb3e\" name=\"files[]\" multiple disabled\n",
              "        style=\"border:none\" />\n",
              "     <output id=\"result-c2531488-32d0-4342-9407-d8f9c4b1bb3e\">\n",
              "      Upload widget is only available when the cell has been executed in the\n",
              "      current browser session. Please rerun this cell to enable.\n",
              "      </output>\n",
              "      <script>// Copyright 2017 Google LLC\n",
              "//\n",
              "// Licensed under the Apache License, Version 2.0 (the \"License\");\n",
              "// you may not use this file except in compliance with the License.\n",
              "// You may obtain a copy of the License at\n",
              "//\n",
              "//      http://www.apache.org/licenses/LICENSE-2.0\n",
              "//\n",
              "// Unless required by applicable law or agreed to in writing, software\n",
              "// distributed under the License is distributed on an \"AS IS\" BASIS,\n",
              "// WITHOUT WARRANTIES OR CONDITIONS OF ANY KIND, either express or implied.\n",
              "// See the License for the specific language governing permissions and\n",
              "// limitations under the License.\n",
              "\n",
              "/**\n",
              " * @fileoverview Helpers for google.colab Python module.\n",
              " */\n",
              "(function(scope) {\n",
              "function span(text, styleAttributes = {}) {\n",
              "  const element = document.createElement('span');\n",
              "  element.textContent = text;\n",
              "  for (const key of Object.keys(styleAttributes)) {\n",
              "    element.style[key] = styleAttributes[key];\n",
              "  }\n",
              "  return element;\n",
              "}\n",
              "\n",
              "// Max number of bytes which will be uploaded at a time.\n",
              "const MAX_PAYLOAD_SIZE = 100 * 1024;\n",
              "\n",
              "function _uploadFiles(inputId, outputId) {\n",
              "  const steps = uploadFilesStep(inputId, outputId);\n",
              "  const outputElement = document.getElementById(outputId);\n",
              "  // Cache steps on the outputElement to make it available for the next call\n",
              "  // to uploadFilesContinue from Python.\n",
              "  outputElement.steps = steps;\n",
              "\n",
              "  return _uploadFilesContinue(outputId);\n",
              "}\n",
              "\n",
              "// This is roughly an async generator (not supported in the browser yet),\n",
              "// where there are multiple asynchronous steps and the Python side is going\n",
              "// to poll for completion of each step.\n",
              "// This uses a Promise to block the python side on completion of each step,\n",
              "// then passes the result of the previous step as the input to the next step.\n",
              "function _uploadFilesContinue(outputId) {\n",
              "  const outputElement = document.getElementById(outputId);\n",
              "  const steps = outputElement.steps;\n",
              "\n",
              "  const next = steps.next(outputElement.lastPromiseValue);\n",
              "  return Promise.resolve(next.value.promise).then((value) => {\n",
              "    // Cache the last promise value to make it available to the next\n",
              "    // step of the generator.\n",
              "    outputElement.lastPromiseValue = value;\n",
              "    return next.value.response;\n",
              "  });\n",
              "}\n",
              "\n",
              "/**\n",
              " * Generator function which is called between each async step of the upload\n",
              " * process.\n",
              " * @param {string} inputId Element ID of the input file picker element.\n",
              " * @param {string} outputId Element ID of the output display.\n",
              " * @return {!Iterable<!Object>} Iterable of next steps.\n",
              " */\n",
              "function* uploadFilesStep(inputId, outputId) {\n",
              "  const inputElement = document.getElementById(inputId);\n",
              "  inputElement.disabled = false;\n",
              "\n",
              "  const outputElement = document.getElementById(outputId);\n",
              "  outputElement.innerHTML = '';\n",
              "\n",
              "  const pickedPromise = new Promise((resolve) => {\n",
              "    inputElement.addEventListener('change', (e) => {\n",
              "      resolve(e.target.files);\n",
              "    });\n",
              "  });\n",
              "\n",
              "  const cancel = document.createElement('button');\n",
              "  inputElement.parentElement.appendChild(cancel);\n",
              "  cancel.textContent = 'Cancel upload';\n",
              "  const cancelPromise = new Promise((resolve) => {\n",
              "    cancel.onclick = () => {\n",
              "      resolve(null);\n",
              "    };\n",
              "  });\n",
              "\n",
              "  // Wait for the user to pick the files.\n",
              "  const files = yield {\n",
              "    promise: Promise.race([pickedPromise, cancelPromise]),\n",
              "    response: {\n",
              "      action: 'starting',\n",
              "    }\n",
              "  };\n",
              "\n",
              "  cancel.remove();\n",
              "\n",
              "  // Disable the input element since further picks are not allowed.\n",
              "  inputElement.disabled = true;\n",
              "\n",
              "  if (!files) {\n",
              "    return {\n",
              "      response: {\n",
              "        action: 'complete',\n",
              "      }\n",
              "    };\n",
              "  }\n",
              "\n",
              "  for (const file of files) {\n",
              "    const li = document.createElement('li');\n",
              "    li.append(span(file.name, {fontWeight: 'bold'}));\n",
              "    li.append(span(\n",
              "        `(${file.type || 'n/a'}) - ${file.size} bytes, ` +\n",
              "        `last modified: ${\n",
              "            file.lastModifiedDate ? file.lastModifiedDate.toLocaleDateString() :\n",
              "                                    'n/a'} - `));\n",
              "    const percent = span('0% done');\n",
              "    li.appendChild(percent);\n",
              "\n",
              "    outputElement.appendChild(li);\n",
              "\n",
              "    const fileDataPromise = new Promise((resolve) => {\n",
              "      const reader = new FileReader();\n",
              "      reader.onload = (e) => {\n",
              "        resolve(e.target.result);\n",
              "      };\n",
              "      reader.readAsArrayBuffer(file);\n",
              "    });\n",
              "    // Wait for the data to be ready.\n",
              "    let fileData = yield {\n",
              "      promise: fileDataPromise,\n",
              "      response: {\n",
              "        action: 'continue',\n",
              "      }\n",
              "    };\n",
              "\n",
              "    // Use a chunked sending to avoid message size limits. See b/62115660.\n",
              "    let position = 0;\n",
              "    do {\n",
              "      const length = Math.min(fileData.byteLength - position, MAX_PAYLOAD_SIZE);\n",
              "      const chunk = new Uint8Array(fileData, position, length);\n",
              "      position += length;\n",
              "\n",
              "      const base64 = btoa(String.fromCharCode.apply(null, chunk));\n",
              "      yield {\n",
              "        response: {\n",
              "          action: 'append',\n",
              "          file: file.name,\n",
              "          data: base64,\n",
              "        },\n",
              "      };\n",
              "\n",
              "      let percentDone = fileData.byteLength === 0 ?\n",
              "          100 :\n",
              "          Math.round((position / fileData.byteLength) * 100);\n",
              "      percent.textContent = `${percentDone}% done`;\n",
              "\n",
              "    } while (position < fileData.byteLength);\n",
              "  }\n",
              "\n",
              "  // All done.\n",
              "  yield {\n",
              "    response: {\n",
              "      action: 'complete',\n",
              "    }\n",
              "  };\n",
              "}\n",
              "\n",
              "scope.google = scope.google || {};\n",
              "scope.google.colab = scope.google.colab || {};\n",
              "scope.google.colab._files = {\n",
              "  _uploadFiles,\n",
              "  _uploadFilesContinue,\n",
              "};\n",
              "})(self);\n",
              "</script> "
            ]
          },
          "metadata": {}
        },
        {
          "output_type": "stream",
          "name": "stdout",
          "text": [
            "Saving kaggle.json to kaggle.json\n"
          ]
        },
        {
          "output_type": "execute_result",
          "data": {
            "text/plain": [
              "{'kaggle.json': b'{\"username\":\"remonrezk\",\"key\":\"c6adebd6f02a2a0f378d65c02d096440\"}'}"
            ]
          },
          "metadata": {},
          "execution_count": 9
        }
      ],
      "source": [
        "# upload Kaggle API Token file\n",
        "from google.colab import files\n",
        "\n",
        "files.upload()  # upload `kaggle.json`"
      ]
    },
    {
      "cell_type": "code",
      "execution_count": 10,
      "metadata": {
        "id": "U40Rbnsy8rq8"
      },
      "outputs": [],
      "source": [
        "!mkdir ~/.kaggle  # make a hidden directory\n",
        "!cp kaggle.json ~/.kaggle/  # copy `kaggle.json` there\n",
        "!chmod 600 ~/.kaggle/kaggle.json  # give read and write permissions"
      ]
    },
    {
      "cell_type": "code",
      "execution_count": 11,
      "metadata": {
        "id": "wID3JrJhpZT5"
      },
      "outputs": [],
      "source": [
        "# note that in the aforementioned instruction we changed\n",
        "# `competition download -c` to `datasets download -q`.\n",
        "!kaggle datasets download -q ashirwadsangwan/imdb-dataset"
      ]
    },
    {
      "cell_type": "code",
      "execution_count": 12,
      "metadata": {
        "id": "bmqA2bNqqaY5",
        "colab": {
          "base_uri": "https://localhost:8080/"
        },
        "outputId": "ac75e873-1d15-45bb-983d-8ffebbd4be31"
      },
      "outputs": [
        {
          "output_type": "stream",
          "name": "stdout",
          "text": [
            "Archive:  imdb-dataset.zip\n",
            "  inflating: imdb/name.basics.tsv/data.tsv  \n",
            "  inflating: imdb/title.akas.tsv/data.tsv  \n",
            "  inflating: imdb/title.basics.tsv/data.tsv  \n",
            "  inflating: imdb/title.principals.tsv/data.tsv  \n",
            "  inflating: imdb/title.ratings.tsv/data.tsv  \n"
          ]
        }
      ],
      "source": [
        "!mkdir imdb  # make new directory\n",
        "!unzip imdb-dataset.zip -d imdb  # unzip the dataset there"
      ]
    },
    {
      "cell_type": "code",
      "execution_count": 13,
      "metadata": {
        "id": "YA-iF1miEWQD"
      },
      "outputs": [],
      "source": [
        "name_basics = spark.read.csv('/content/imdb/name.basics.tsv', sep=r'\\t', header=True)\n",
        "title_akas = spark.read.csv('/content/imdb/title.akas.tsv', sep=r'\\t', header=True)\n",
        "title_basics = spark.read.csv('/content/imdb/title.basics.tsv', sep='\\t' , header=True, inferSchema=True)\n",
        "title_principals = spark.read.csv('/content/imdb/title.principals.tsv', sep=r'\\t', header=True)\n",
        "title_ratings = spark.read.csv('/content/imdb/title.ratings.tsv', sep=r'\\t', header=True)"
      ]
    },
    {
      "cell_type": "code",
      "execution_count": 14,
      "metadata": {
        "id": "SLimigsmKk0W",
        "colab": {
          "base_uri": "https://localhost:8080/"
        },
        "outputId": "2c92dd33-9ec4-4ade-f608-5994a8e3cef8"
      },
      "outputs": [
        {
          "output_type": "stream",
          "name": "stdout",
          "text": [
            "+---------+---------------+---------+---------+--------------------+--------------------+\n",
            "|   nconst|    primaryName|birthYear|deathYear|   primaryProfession|      knownForTitles|\n",
            "+---------+---------------+---------+---------+--------------------+--------------------+\n",
            "|nm0000001|   Fred Astaire|     1899|     1987|soundtrack,actor,...|tt0050419,tt00531...|\n",
            "|nm0000002|  Lauren Bacall|     1924|     2014|  actress,soundtrack|tt0038355,tt00373...|\n",
            "|nm0000003|Brigitte Bardot|     1934|       \\N|actress,soundtrac...|tt0054452,tt00564...|\n",
            "|nm0000004|   John Belushi|     1949|     1982|actor,soundtrack,...|tt0080455,tt00779...|\n",
            "|nm0000005| Ingmar Bergman|     1918|     2007|writer,director,a...|tt0060827,tt00839...|\n",
            "+---------+---------------+---------+---------+--------------------+--------------------+\n",
            "only showing top 5 rows\n",
            "\n"
          ]
        }
      ],
      "source": [
        "name_basics.show(5)"
      ]
    },
    {
      "cell_type": "code",
      "source": [
        "# name_basics.count()"
      ],
      "metadata": {
        "id": "Ct0om0L3zraI"
      },
      "execution_count": 15,
      "outputs": []
    },
    {
      "cell_type": "code",
      "source": [
        "title_akas.show(5)"
      ],
      "metadata": {
        "id": "ulsGu8Lmvw7N",
        "colab": {
          "base_uri": "https://localhost:8080/"
        },
        "outputId": "cd8234b3-b7e9-4cc1-af9d-9a81890fd8b2"
      },
      "execution_count": 16,
      "outputs": [
        {
          "output_type": "stream",
          "name": "stdout",
          "text": [
            "+---------+--------+--------------------+------+--------+-----------+-------------+---------------+\n",
            "|  titleId|ordering|               title|region|language|      types|   attributes|isOriginalTitle|\n",
            "+---------+--------+--------------------+------+--------+-----------+-------------+---------------+\n",
            "|tt0000001|       1|          Карменсіта|    UA|      \\N|imdbDisplay|           \\N|              0|\n",
            "|tt0000001|       2|          Carmencita|    DE|      \\N|         \\N|literal title|              0|\n",
            "|tt0000001|       3|Carmencita - span...|    HU|      \\N|imdbDisplay|           \\N|              0|\n",
            "|tt0000001|       4|          Καρμενσίτα|    GR|      \\N|imdbDisplay|           \\N|              0|\n",
            "|tt0000001|       5|          Карменсита|    RU|      \\N|imdbDisplay|           \\N|              0|\n",
            "+---------+--------+--------------------+------+--------+-----------+-------------+---------------+\n",
            "only showing top 5 rows\n",
            "\n"
          ]
        }
      ]
    },
    {
      "cell_type": "code",
      "source": [
        "# title_akas.count()"
      ],
      "metadata": {
        "id": "nJ_iVl4H5vSD"
      },
      "execution_count": 17,
      "outputs": []
    },
    {
      "cell_type": "code",
      "source": [
        "# title_basics.count()"
      ],
      "metadata": {
        "id": "fqoheaqIvzWx"
      },
      "execution_count": 18,
      "outputs": []
    },
    {
      "cell_type": "code",
      "source": [
        "title_basics.sample(False, 0.001, seed=6).show()"
      ],
      "metadata": {
        "id": "f5ldDoYB_Grr",
        "colab": {
          "base_uri": "https://localhost:8080/"
        },
        "outputId": "67f372c4-071b-48af-bc52-26e0eead8ba2"
      },
      "execution_count": 19,
      "outputs": [
        {
          "output_type": "stream",
          "name": "stdout",
          "text": [
            "+---------+---------+--------------------+--------------------+-------+---------+-------+--------------+--------------------+\n",
            "|   tconst|titleType|        primaryTitle|       originalTitle|isAdult|startYear|endYear|runtimeMinutes|              genres|\n",
            "+---------+---------+--------------------+--------------------+-------+---------+-------+--------------+--------------------+\n",
            "|tt0002403|    short|    The Old Reporter|    The Old Reporter|      0|     1912|     \\N|            \\N|         Drama,Short|\n",
            "|tt0003017|    short|  An Infernal Tangle|  An Infernal Tangle|      0|     1913|     \\N|            11|         Drama,Short|\n",
            "|tt0003674|    short| The Bells of Rheims| The Bells of Rheims|      0|     1914|     \\N|            \\N|     Drama,Short,War|\n",
            "|tt0004384|    movie|     The Naked Truth|       La donna nuda|      0|     1914|     \\N|            60|               Drama|\n",
            "|tt0004626|    movie|The Spirit of the...|The Spirit of the...|      0|     1914|     \\N|            \\N|               Drama|\n",
            "|tt0005088|    short|The Chimney's Secret|The Chimney's Secret|      0|     1915|     \\N|            \\N|         Drama,Short|\n",
            "|tt0006695|    short|For Ten Thousand ...|For Ten Thousand ...|      0|     1916|     \\N|            \\N|        Comedy,Short|\n",
            "|tt0007757|    short|         Bungalowing|         Bungalowing|      0|     1917|     \\N|            \\N|        Comedy,Short|\n",
            "|tt0008603|    movie|The Son of His Fa...|The Son of His Fa...|      0|     1917|     \\N|            50|                  \\N|\n",
            "|tt0012262|    movie|    Hearts and Masks|    Hearts and Masks|      0|     1921|     \\N|            50|      Comedy,Romance|\n",
            "|tt0012550|    movie|  A Parisian Scandal|  A Parisian Scandal|      0|     1921|     \\N|            50|        Comedy,Drama|\n",
            "|tt0013352|    short|    Mackerel Fishing|    Mackerel Fishing|      0|     1922|     \\N|            \\N|     Animation,Short|\n",
            "|tt0013816|    movie|        Adam and Eve|        Adam und Eva|      0|     1923|     \\N|            \\N|                  \\N|\n",
            "|tt0014891|    movie|The Fighting Adve...|The Fighting Adve...|      0|     1924|     \\N|            57|Action,Drama,Romance|\n",
            "|tt0015900|    movie|          Head Winds|          Head Winds|      0|     1925|     \\N|            52|               Drama|\n",
            "|tt0025900|    short|       A Torch Tango|       A Torch Tango|      0|     1934|     \\N|            21|       Musical,Short|\n",
            "|tt0027042|    movie|Steamboat Round t...|Steamboat Round t...|      0|     1935|     \\N|            82|Comedy,Drama,Romance|\n",
            "|tt0027405|    movie|The Little Pastry...|     Budai cukrászda|      0|     1935|     \\N|            90|Comedy,Drama,Romance|\n",
            "|tt0028132|    movie|    Postal Inspector|    Postal Inspector|      0|     1936|     \\N|            58|  Action,Crime,Drama|\n",
            "|tt0028204|    movie|     Rosa de Francia|     Rosa de Francia|      0|     1935|     \\N|            80|Comedy,Drama,Romance|\n",
            "+---------+---------+--------------------+--------------------+-------+---------+-------+--------------+--------------------+\n",
            "only showing top 20 rows\n",
            "\n"
          ]
        }
      ]
    },
    {
      "cell_type": "code",
      "source": [
        "title_basics.createOrReplaceTempView(\"movies\")\n",
        "\n",
        "titleType_query = \"\"\"\n",
        "  SELECT DISTINCT titleType\n",
        "  FROM movies\n",
        "\"\"\"\n",
        "\n",
        "titleType_results = spark.sql(titleType_query)"
      ],
      "metadata": {
        "id": "vrqHR_UH7jdv"
      },
      "execution_count": 20,
      "outputs": []
    },
    {
      "cell_type": "code",
      "source": [
        "titleType_results.show()"
      ],
      "metadata": {
        "id": "kVkCJSTl8rzY",
        "colab": {
          "base_uri": "https://localhost:8080/"
        },
        "outputId": "b68a59af-310a-4d90-8e39-fe4d1f6ba792"
      },
      "execution_count": 21,
      "outputs": [
        {
          "output_type": "stream",
          "name": "stdout",
          "text": [
            "+------------+\n",
            "|   titleType|\n",
            "+------------+\n",
            "|    tvSeries|\n",
            "|tvMiniSeries|\n",
            "|     tvMovie|\n",
            "|   tvEpisode|\n",
            "|       movie|\n",
            "|   tvSpecial|\n",
            "|       video|\n",
            "|   videoGame|\n",
            "|     tvShort|\n",
            "|       short|\n",
            "|     tvPilot|\n",
            "+------------+\n",
            "\n"
          ]
        }
      ]
    },
    {
      "cell_type": "code",
      "execution_count": 22,
      "metadata": {
        "id": "1-B6RV_4ahZS",
        "colab": {
          "base_uri": "https://localhost:8080/"
        },
        "outputId": "47eec6bb-900b-4c2a-b72f-e20ef54e8c24"
      },
      "outputs": [
        {
          "output_type": "stream",
          "name": "stdout",
          "text": [
            "+---------+--------+---------+---------------+--------------------+--------------+\n",
            "|   tconst|ordering|   nconst|       category|                 job|    characters|\n",
            "+---------+--------+---------+---------------+--------------------+--------------+\n",
            "|tt0000001|       1|nm1588970|           self|                  \\N|      [\"Self\"]|\n",
            "|tt0000001|       2|nm0005690|       director|                  \\N|            \\N|\n",
            "|tt0000001|       3|nm0374658|cinematographer|director of photo...|            \\N|\n",
            "|tt0000002|       1|nm0721526|       director|                  \\N|            \\N|\n",
            "|tt0000002|       2|nm1335271|       composer|                  \\N|            \\N|\n",
            "|tt0000003|       1|nm0721526|       director|                  \\N|            \\N|\n",
            "|tt0000003|       2|nm1770680|       producer|            producer|            \\N|\n",
            "|tt0000003|       3|nm1335271|       composer|                  \\N|            \\N|\n",
            "|tt0000003|       4|nm5442200|         editor|                  \\N|            \\N|\n",
            "|tt0000004|       1|nm0721526|       director|                  \\N|            \\N|\n",
            "|tt0000004|       2|nm1335271|       composer|                  \\N|            \\N|\n",
            "|tt0000005|       1|nm0443482|          actor|                  \\N|[\"Blacksmith\"]|\n",
            "|tt0000005|       2|nm0653042|          actor|                  \\N| [\"Assistant\"]|\n",
            "|tt0000005|       3|nm0005690|       director|                  \\N|            \\N|\n",
            "|tt0000005|       4|nm0249379|       producer|            producer|            \\N|\n",
            "|tt0000006|       1|nm0005690|       director|                  \\N|            \\N|\n",
            "|tt0000007|       1|nm0179163|          actor|                  \\N|            \\N|\n",
            "|tt0000007|       2|nm0183947|          actor|                  \\N|            \\N|\n",
            "|tt0000007|       3|nm0005690|       director|                  \\N|            \\N|\n",
            "|tt0000007|       4|nm0374658|       director|                  \\N|            \\N|\n",
            "+---------+--------+---------+---------------+--------------------+--------------+\n",
            "only showing top 20 rows\n",
            "\n"
          ]
        }
      ],
      "source": [
        "title_principals.show()"
      ]
    },
    {
      "cell_type": "code",
      "source": [
        "# title_principals.count()"
      ],
      "metadata": {
        "id": "6ZV8hJfeFddq"
      },
      "execution_count": 23,
      "outputs": []
    },
    {
      "cell_type": "code",
      "execution_count": 24,
      "metadata": {
        "id": "lBp7Kvj2KnRN",
        "colab": {
          "base_uri": "https://localhost:8080/"
        },
        "outputId": "015f9550-4a93-4a22-8cdf-0e544e4f63c7"
      },
      "outputs": [
        {
          "output_type": "stream",
          "name": "stdout",
          "text": [
            "+---------+-------------+--------+\n",
            "|   tconst|averageRating|numVotes|\n",
            "+---------+-------------+--------+\n",
            "|tt0000001|          5.7|    1925|\n",
            "|tt0000002|          5.8|     261|\n",
            "|tt0000003|          6.5|    1741|\n",
            "|tt0000004|          5.6|     176|\n",
            "|tt0000005|          6.2|    2554|\n",
            "|tt0000006|          5.1|     175|\n",
            "|tt0000007|          5.4|     797|\n",
            "|tt0000008|          5.4|    2069|\n",
            "|tt0000009|          5.3|     200|\n",
            "|tt0000010|          6.9|    6994|\n",
            "|tt0000011|          5.3|     357|\n",
            "|tt0000012|          7.4|   12001|\n",
            "|tt0000013|          5.7|    1850|\n",
            "|tt0000014|          7.1|    5381|\n",
            "|tt0000015|          6.2|    1035|\n",
            "|tt0000016|          5.9|    1460|\n",
            "|tt0000017|          4.6|     318|\n",
            "|tt0000018|          5.3|     583|\n",
            "|tt0000019|          5.1|      31|\n",
            "|tt0000020|          4.8|     351|\n",
            "+---------+-------------+--------+\n",
            "only showing top 20 rows\n",
            "\n"
          ]
        }
      ],
      "source": [
        "title_ratings.show()"
      ]
    },
    {
      "cell_type": "code",
      "execution_count": 25,
      "metadata": {
        "id": "GK1ySeNV2p1Z"
      },
      "outputs": [],
      "source": [
        "title_principals.createOrReplaceTempView(\"titleprincipals\")\n",
        "title_basics.createOrReplaceTempView(\"titlebasics\")"
      ]
    },
    {
      "cell_type": "code",
      "source": [
        "# import pyspark.sql.functions as f\n",
        "\n",
        "# title_basics.count()  # 6'326'545\n",
        "\n",
        "# movies = title_basics.filter(f.col(\"titleType\") == \"movie\").rdd.map(lambda x: x[0])\n",
        "# movies.count()  # 536'248\n",
        "\n",
        "# only 8% of the IMDB `tconst` records are `movie`s"
      ],
      "metadata": {
        "id": "COgKrBy6PvE4"
      },
      "execution_count": 26,
      "outputs": []
    },
    {
      "cell_type": "code",
      "execution_count": 27,
      "metadata": {
        "id": "pFrsiwYI24R1"
      },
      "outputs": [],
      "source": [
        "# we are not interested in difference between `actor`\n",
        "# and `actress` so we only keep `p.nconst` and `m.tconst`\n",
        "query = \"\"\"\n",
        "  SELECT tp.nconst, tb.tconst\n",
        "  FROM titlebasics as tb\n",
        "  INNER JOIN titleprincipals as tp\n",
        "  ON tp.tconst = tb.tconst\n",
        "  WHERE (category = 'actor' or category = 'actress') and (tb.titleType = 'movie' or tb.titleType = 'tvMovie');\n",
        "  \"\"\""
      ]
    },
    {
      "cell_type": "code",
      "execution_count": 28,
      "metadata": {
        "id": "6I_GiphV3Wpf"
      },
      "outputs": [],
      "source": [
        "results = spark.sql(query)"
      ]
    },
    {
      "cell_type": "code",
      "execution_count": 29,
      "metadata": {
        "id": "35alhdvf4MjL",
        "colab": {
          "base_uri": "https://localhost:8080/"
        },
        "outputId": "eb3f6b18-b4f9-43d9-c5a8-883bf6198667"
      },
      "outputs": [
        {
          "output_type": "stream",
          "name": "stdout",
          "text": [
            "+---------+---------+\n",
            "|   nconst|   tconst|\n",
            "+---------+---------+\n",
            "|nm0624446|tt0000630|\n",
            "|nm5289318|tt0000862|\n",
            "|nm5289829|tt0000862|\n",
            "|nm0264569|tt0000862|\n",
            "|nm0386036|tt0000862|\n",
            "|nm0511080|tt0000862|\n",
            "|nm5188470|tt0000862|\n",
            "|nm0034453|tt0000941|\n",
            "|nm0140054|tt0000941|\n",
            "|nm0243918|tt0000941|\n",
            "|nm0294022|tt0000941|\n",
            "|nm0923594|tt0001101|\n",
            "|nm0135493|tt0001112|\n",
            "|nm0143332|tt0001112|\n",
            "|nm0630641|tt0001115|\n",
            "|nm0064953|tt0001115|\n",
            "|nm0085066|tt0001115|\n",
            "|nm0169878|tt0001115|\n",
            "|nm0299757|tt0001115|\n",
            "|nm1834296|tt0001115|\n",
            "+---------+---------+\n",
            "only showing top 20 rows\n",
            "\n"
          ]
        }
      ],
      "source": [
        "results.show()"
      ]
    },
    {
      "cell_type": "code",
      "execution_count": 30,
      "metadata": {
        "id": "epPMjlVK36r3"
      },
      "outputs": [],
      "source": [
        "# results.count()  # 1'694'722"
      ]
    },
    {
      "cell_type": "code",
      "execution_count": 31,
      "metadata": {
        "id": "h1rgE2R69toM"
      },
      "outputs": [],
      "source": [
        "rdd = results.rdd.map(lambda x: (x[0], x[1]))"
      ]
    },
    {
      "cell_type": "code",
      "execution_count": 32,
      "metadata": {
        "id": "Y_Cwrep3Egql"
      },
      "outputs": [],
      "source": [
        "# there are 36'499'704 `jobs` in our IMDB dataset; one person can have multiple\n",
        "# jobs (actress, producer, composer, etc.) even in one signle movie.\n",
        "# title_principals.count()  # 36'499'704\n",
        "\n",
        "# only 14'830'233 out of 36'499'704 job are\n",
        "# actor/actress; this is roughly 41%\n",
        "# rdd.count()  # 14'830'233 -- 8m"
      ]
    },
    {
      "cell_type": "code",
      "execution_count": 33,
      "metadata": {
        "id": "oZ4b8jSiD6eD"
      },
      "outputs": [],
      "source": [
        "# list the movies an actor/actress participated in\n",
        "rdd = rdd.map(lambda x: (x[0], [x[1]])).reduceByKey(lambda x, y: x+y)"
      ]
    },
    {
      "cell_type": "code",
      "execution_count": 34,
      "metadata": {
        "id": "ZQavIF2IEAmJ"
      },
      "outputs": [],
      "source": [
        "# we are interested in actors/actresses that participated\n",
        "# in more than one movies, because it means that it creates\n",
        "# a link between two movies in our network\n",
        "rdd = rdd.filter(lambda x: len(x[1]) > 1)"
      ]
    },
    {
      "cell_type": "code",
      "execution_count": 35,
      "metadata": {
        "id": "3mvjJatKP_Yy"
      },
      "outputs": [],
      "source": [
        "# we only keep the list of movies that share a specific `actor/actress`\n",
        "rdd = rdd.map(lambda x: x[1])"
      ]
    },
    {
      "cell_type": "code",
      "execution_count": 36,
      "metadata": {
        "id": "xQqmPW4bP_bE"
      },
      "outputs": [],
      "source": [
        "import itertools\n",
        "\n",
        "# make all the possible pairs of movies who share an `actor/actress`\n",
        "# note that we want to have a bidirectional network, so `combinations`\n",
        "# instead of `permutations` is not a good idea\n",
        "# note also, since many movies share more than one `actor/actress`\n",
        "# removing duplicates using `.distinct()` is necessary\n",
        "rdd = rdd.flatMap(lambda x:itertools.permutations(x, 2)).distinct()\n",
        "\n",
        "# rdd.count()   # 3m, 47,420,200"
      ]
    },
    {
      "cell_type": "code",
      "execution_count": 37,
      "metadata": {
        "id": "W3R2QaDodgs3"
      },
      "outputs": [],
      "source": [
        "def calculate_contributions(outneighbors, rank):\n",
        "    \"\"\"calculates vertex contributions to the rank of other out-neighbors.\"\"\"\n",
        "    num_outneighbors = len(outneighbors)\n",
        "    for outneighbor in outneighbors:\n",
        "        yield (outneighbor, rank / num_outneighbors)"
      ]
    },
    {
      "cell_type": "code",
      "execution_count": 38,
      "metadata": {
        "id": "Fy-9WhNLfEIk"
      },
      "outputs": [],
      "source": [
        "# group the all links by their origin nodes\n",
        "adjacency_list = rdd.groupByKey().cache()\n",
        "\n",
        "# adjacency_list.count()  # 435'486"
      ]
    },
    {
      "cell_type": "code",
      "source": [
        "# adjacency_list.map(lambda x: len(x[1])).sum()  # 17m, 47,420,200"
      ],
      "metadata": {
        "id": "4ymvBX4DETap"
      },
      "execution_count": 39,
      "outputs": []
    },
    {
      "cell_type": "code",
      "execution_count": 40,
      "metadata": {
        "id": "eKE52VfEfO03"
      },
      "outputs": [],
      "source": [
        "# make a tuple for all vertices and initialize ranks of them to one\n",
        "ranks = adjacency_list.map(lambda outneighbors: (outneighbors[0], 1.0))"
      ]
    },
    {
      "cell_type": "code",
      "execution_count": 41,
      "metadata": {
        "id": "s-kvKyqHf50a"
      },
      "outputs": [],
      "source": [
        "from operator import add\n",
        "\n",
        "# calculates and updates node ranks continuously using PageRank algorithm\n",
        "# since checking the results is costly, becuase we need to collect them\n",
        "# in order to be able to check the convergence, we iterate a certain number\n",
        "# of times, say 10 times\n",
        "for iteration in range(num_iters):\n",
        "\n",
        "    # calculates vertex contributions to the rank of out-neighbors\n",
        "    # vnr stands for vertex_neighbors_rank\n",
        "    contributions = adjacency_list.join(ranks).flatMap(lambda vnr: calculate_contributions(vnr[1][0], vnr[1][1]))\n",
        "\n",
        "    # re-calculates vertex ranks based on in-neighbors' contributions\n",
        "    ranks = contributions.reduceByKey(add).mapValues(lambda rank: rank * damping_factor + (1 - damping_factor))"
      ]
    },
    {
      "cell_type": "code",
      "execution_count": 42,
      "metadata": {
        "id": "P49dyf8AB1l4"
      },
      "outputs": [],
      "source": [
        "ranks_sorted = ranks.sortBy(lambda x: -x[1]).collect()"
      ]
    },
    {
      "cell_type": "code",
      "execution_count": 43,
      "metadata": {
        "id": "AAca8AyqBk-J"
      },
      "outputs": [],
      "source": [
        "import csv\n",
        "\n",
        "with open(f'/content/IMDB-PageRank-{num_iters}.csv', 'w', newline='') as outputfile:\n",
        "     wr = csv.writer(outputfile, quoting=csv.QUOTE_ALL)\n",
        "     wr.writerow(ranks_sorted)"
      ]
    },
    {
      "cell_type": "code",
      "execution_count": 44,
      "metadata": {
        "id": "qqOtGYhHBbTN",
        "colab": {
          "base_uri": "https://localhost:8080/",
          "height": 17
        },
        "outputId": "32e7d527-413d-4db4-c0e4-e8da747d9d0c"
      },
      "outputs": [
        {
          "output_type": "display_data",
          "data": {
            "text/plain": [
              "<IPython.core.display.Javascript object>"
            ],
            "application/javascript": [
              "\n",
              "    async function download(id, filename, size) {\n",
              "      if (!google.colab.kernel.accessAllowed) {\n",
              "        return;\n",
              "      }\n",
              "      const div = document.createElement('div');\n",
              "      const label = document.createElement('label');\n",
              "      label.textContent = `Downloading \"${filename}\": `;\n",
              "      div.appendChild(label);\n",
              "      const progress = document.createElement('progress');\n",
              "      progress.max = size;\n",
              "      div.appendChild(progress);\n",
              "      document.body.appendChild(div);\n",
              "\n",
              "      const buffers = [];\n",
              "      let downloaded = 0;\n",
              "\n",
              "      const channel = await google.colab.kernel.comms.open(id);\n",
              "      // Send a message to notify the kernel that we're ready.\n",
              "      channel.send({})\n",
              "\n",
              "      for await (const message of channel.messages) {\n",
              "        // Send a message to notify the kernel that we're ready.\n",
              "        channel.send({})\n",
              "        if (message.buffers) {\n",
              "          for (const buffer of message.buffers) {\n",
              "            buffers.push(buffer);\n",
              "            downloaded += buffer.byteLength;\n",
              "            progress.value = downloaded;\n",
              "          }\n",
              "        }\n",
              "      }\n",
              "      const blob = new Blob(buffers, {type: 'application/binary'});\n",
              "      const a = document.createElement('a');\n",
              "      a.href = window.URL.createObjectURL(blob);\n",
              "      a.download = filename;\n",
              "      div.appendChild(a);\n",
              "      a.click();\n",
              "      div.remove();\n",
              "    }\n",
              "  "
            ]
          },
          "metadata": {}
        },
        {
          "output_type": "display_data",
          "data": {
            "text/plain": [
              "<IPython.core.display.Javascript object>"
            ],
            "application/javascript": [
              "download(\"download_c3dd5573-56c6-4791-afdc-7b4f3e478b77\", \"IMDB-PageRank-1.csv\", 17897661)"
            ]
          },
          "metadata": {}
        }
      ],
      "source": [
        "from google.colab import files\n",
        "\n",
        "files.download(f'/content/IMDB-PageRank-{num_iters}.csv')"
      ]
    }
  ],
  "metadata": {
    "colab": {
      "provenance": [],
      "include_colab_link": true
    },
    "kernelspec": {
      "display_name": "Python 3",
      "language": "python",
      "name": "python3"
    },
    "gpuClass": "standard"
  },
  "nbformat": 4,
  "nbformat_minor": 0
}